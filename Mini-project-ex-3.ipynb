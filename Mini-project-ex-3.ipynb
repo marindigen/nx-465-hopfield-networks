{
 "cells": [
  {
   "cell_type": "markdown",
   "metadata": {},
   "source": [
    "# Ex 3. Separate inhibitory population"
   ]
  },
  {
   "cell_type": "code",
   "execution_count": null,
   "metadata": {},
   "outputs": [],
   "source": [
    "import numpy as np\n",
    "import matplotlib.pyplot as plt"
   ]
  },
  {
   "cell_type": "code",
   "execution_count": null,
   "metadata": {},
   "outputs": [],
   "source": [
    "def compute_synaptic_weights(patterns, a, N, Ni, K):\n",
    "    \"\"\"\n",
    "    Compute synaptic weights for excitatory-excitatory and inhibitory-excitatory.\n",
    "    \"\"\"\n",
    "    M = patterns.shape[0]\n",
    "    c = 2 / (a * (1 - a))\n",
    "    term_ij = np.zeros((N, N))\n",
    "    for mu in range(M):\n",
    "        xi_mu = patterns[mu]\n",
    "        term_ij += np.outer(xi_mu, xi_mu)\n",
    "    wij = (c / N) * term_ij\n",
    "\n",
    "    exc_inh = np.random.choice(N, K, replace=False)\n",
    "    wki = 1/K\n",
    "    wik = (c * a / Ni) * np.sum(patterns, axis=0)\n",
    "    #W = np.zeros((N, N))\n",
    "    #for i in range(size):\n",
    "    #    for j in range(size):\n",
    "    #       W[i, j] = c / N * np.sum((patterns[:, i]) * (patterns[:, j] ))\n",
    "    #print(W.shape)\n",
    "    return wij, wik"
   ]
  },
  {
   "cell_type": "markdown",
   "metadata": {},
   "source": [
    "**3.1.** Write down the total input to an excitatory and an inhibitory neuron. Show that the average input\n",
    "to an excitatory neuron is equivalent to the input to a neuron in the model of exercise 2, for b = 0."
   ]
  },
  {
   "cell_type": "markdown",
   "metadata": {},
   "source": [
    "The total input to an excitatory neuron is comprised of inputs from inhibitory and excitatory neurons:\n",
    "$$h_{i} = h_{exc} - h_{inh}$$\n",
    "Firstly, we consider $h_{exc}$:\n",
    "\\begin{align}\n",
    "h_{exc} = W \\sigma_{exc}\n",
    " = \\sum_{j}^{N} W_{ij}^{E \\leftarrow E} \\sigma_{j}(t)\n",
    " = \\sum_{j}^{N} \\frac{c}{N} \\sum_{\\mu}^{M} \\xi_{i}^{\\mu} \\xi_{j}^{\\mu} \\sigma_{j}(t)\n",
    "\\end{align}\n",
    "Secondly, we consider $h_{inh}$:\n",
    "\\begin{align}\n",
    "h_{inh} = W \\sigma_{inh}\n",
    " = \\sum_{k}^{K} W_{ik}^{E \\leftarrow I} \\sigma_{k}^{I}(t)\n",
    " = \\sum_{k}^{K} \\frac{ca}{N_{I}} \\sum_{\\mu}^{M} \\xi_{i}^{\\mu} \\sigma_{k}^{I}(t)\n",
    "\\end{align}\n",
    "Hence, the total input is:\n",
    "\\begin{align}\n",
    "h_{i} = \\sum_{j}^{N} W_{ij}^{E \\leftarrow E} \\sigma_{j}(t) - \\sum_{k}^{K} W_{ik}^{E \\leftarrow I} \\sigma_{k}^{I}(t)\n",
    "\\end{align}\n",
    "\n",
    "Analogously, the total input to the inhibitory neuron is equal to:\n",
    "\\begin{align}\n",
    "h_{k} = \\sum_{i}^{N} W_{ki}^{I \\leftarrow E} \\sigma_{i}(t)\n",
    "\\end{align}\n",
    "\n",
    "\n",
    "The average input into the excitatory neuron will be:\n",
    "\\begin{align}\n",
    "h_{i,avg} = \\frac{\\sum_{j}^{N} W_{ij}^{E \\leftarrow E} \\sigma_{j}(t) + \\sum_{k}^{K} W_{ik}^{E \\leftarrow I} \\sigma_{k}^{I}(t)}{N+N_{I}}\n",
    "\\end{align}\n",
    "Substituting the whole expression into the $h_{i, avg}$:\n",
    "\\begin{align}\n",
    "h_{i,avg} = \\frac{\\sum_{j}^{N} \\frac{c}{N} \\sum_{\\mu}^{M} \\xi_{i}^{\\mu} \\xi_{j}^{\\mu} \\sigma_{j}(t) + \\sum_{k}^{K} \\frac{ca}{N_{I}} \\sum_{\\mu}^{M} \\xi_{i}^{\\mu} \\sigma_{k}^{I}(t)}{N+N_{I}}\n",
    "\\end{align}"
   ]
  },
  {
   "cell_type": "markdown",
   "metadata": {},
   "source": []
  }
 ],
 "metadata": {
  "language_info": {
   "name": "python"
  }
 },
 "nbformat": 4,
 "nbformat_minor": 2
}
