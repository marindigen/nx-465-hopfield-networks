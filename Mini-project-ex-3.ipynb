{
 "cells": [
  {
   "cell_type": "markdown",
   "metadata": {},
   "source": [
    "# Ex 3. Separate inhibitory population"
   ]
  },
  {
   "cell_type": "code",
   "execution_count": 3,
   "metadata": {},
   "outputs": [],
   "source": [
    "import numpy as np\n",
    "import matplotlib.pyplot as plt"
   ]
  },
  {
   "cell_type": "markdown",
   "metadata": {},
   "source": [
    "**3.1.** Write down the total input to an excitatory and an inhibitory neuron. Show that the average input\n",
    "to an excitatory neuron is equivalent to the input to a neuron in the model of exercise 2, for b = 0."
   ]
  },
  {
   "cell_type": "markdown",
   "metadata": {},
   "source": [
    "**Part 1.**\n",
    "The total input to an excitatory neuron is comprised of inputs from inhibitory and excitatory neurons:\n",
    "$$h_{i} = h_{exc} - h_{inh}$$\n",
    "Firstly, we consider $h_{exc}$:\n",
    "\\begin{align}\n",
    "h_{exc} = W \\sigma_{exc}\n",
    " = \\sum_{j}^{N} W_{ij}^{E \\leftarrow E} \\sigma_{j}(t)\n",
    " = \\sum_{j}^{N} \\frac{c}{N} \\sum_{\\mu}^{M} \\xi_{i}^{\\mu} \\xi_{j}^{\\mu} \\sigma_{j}(t)\n",
    "\\end{align}\n",
    "Secondly, we consider $h_{inh}$:\n",
    "\\begin{align}\n",
    "h_{inh} = W \\sigma_{inh}\n",
    " = \\sum_{k}^{K} W_{ik}^{E \\leftarrow I} \\sigma_{k}^{I}(t)\n",
    " = \\sum_{k}^{K} \\frac{ca}{N_{I}} \\sum_{\\mu}^{M} \\xi_{i}^{\\mu} \\sigma_{k}^{I}(t)\n",
    "\\end{align}\n",
    "Hence, the total input to the excitatory neuron is:\n",
    "\\begin{align}\n",
    "h_{i} = \\sum_{j}^{N} W_{ij}^{E \\leftarrow E} \\sigma_{j}(t) - \\sum_{k}^{N_{I}} W_{ik}^{E \\leftarrow I} \\sigma_{k}^{I}(t)\n",
    "\\end{align}\n",
    "\n",
    "Analogously, the total input to the inhibitory neuron is equal to:\n",
    "\\begin{align}\n",
    "h_{k} = \\sum_{k} W_{ki}^{I \\leftarrow E} \\sigma_{k}(t) = \\frac{1}{K} \\sum_{k} \\sigma_{k}(t),\n",
    "\\end{align}\n",
    "where $k \\in S$, where $S$ is the set of pre-synaptic neurons.\n"
   ]
  },
  {
   "cell_type": "markdown",
   "metadata": {},
   "source": [
    "**Part 2.**\n",
    "1. Inhibiting neurons have linear gain function and fire stochastically: $Prob(\\sigma_k = +1| h_{k}^{inh}) = h_{k}^{inh}$, where k is an index of an inhibitory neuron $1 \\le k \\le N_{I}$.\n",
    "\n",
    "2. Each inhibitory neuron $k$ recieves receives input from $K$ excitatory neurons. Connections are random and of equal weight $w_{ki}^{I \\leftarrow E} = \\frac{1}{K}$.\n",
    "3. Thus, the input potential of the neuron k is $h_{k}^{inh} = \\frac{1}{K} \\sum_{j \\in S}$, where S is the set of pre-synaptic neurons.\n",
    "4. Connection from inhibitory neuron back to excitatory neuron $w_{ik}^{E \\leftarrow I} = \\frac{a}{N_I} \\sum_{\\mu} \\xi_{i}^{\\mu}$\n",
    "5. The total input from inhibitory neuron to excitatory is, therefore, $h_{inh} = \\sum_{k} w_{ik}^{E \\leftarrow I} \\sigma_{k} = \\sum_{k} \\frac{a}{N_I} \\sum_{\\mu} \\xi_{i}^{\\mu} \\sigma_{k} = \\frac{ca}{N_I} \\sum_{k} \\sum_{\\mu} \\xi_{i}^{\\mu} \\sigma_{k}$.\n",
    "6. Putting everything together and considering that $k=j$ and $N=N_I$.\n",
    "$$<h_{i}(t)> = \\frac{c}{N} \\sum_{\\mu}^{M} \\xi_{i}^{\\mu} \\sum_{j}^{N} \\xi_{j}^{\\mu} \\sigma_{j}(t) - \\frac{c}{N} \\sum_{\\mu}^{M} \\xi_{i}^{\\mu} \\sum_{j}^{N} \\xi_{j}^{\\mu} \\sigma_{j}(t) a$$\n",
    "$$ = \\frac{c}{N} \\sum_{\\mu}^{M} \\sum_{j}^{N} \\xi_{i}^{\\mu} (\\xi_{j}^{\\mu} - a) \\sigma_{j}(t)$$\n",
    "Which is equivalent to the low-activity Hopfield model discussed in part 2:\n",
    "$$<h_{i}(t)> = \\sum_{j}^{N} w_{ij} \\sigma_{j}(t)$$\n",
    "$$ = \\frac{c}{N} \\sum_{j}^{N} \\sum_{\\mu}^{M} (\\xi_{i}^{\\mu}-b)(\\xi_{j}^{\\mu}-a) \\sigma_{j}(t)$$\n",
    "$$ = \\frac{c}{N} \\sum_{j}^{N} \\sum_{\\mu}^{M} \\xi_{i}^{\\mu}(\\xi_{j}^{\\mu}-a) \\sigma_{j}(t), QED$$"
   ]
  },
  {
   "cell_type": "markdown",
   "metadata": {},
   "source": [
    "**3.2.** Write a method for simulating this new model.\n",
    "There are two ways of updating the states. Either the input hi(t) to excitatory neuron i depends on σI(t)\n",
    "(synchronous update); or hi(t) depends on σI(t + 1) (sequential update). Implement both.\n"
   ]
  },
  {
   "cell_type": "code",
   "execution_count": null,
   "metadata": {},
   "outputs": [],
   "source": [
    "N=300\n",
    "N_I=80\n",
    "\n",
    "def generate_low_activity_patterns(M, N, a):\n",
    "    \"\"\"\n",
    "    Generate low-activity random patterns with specified activity level.\n",
    "    \"\"\"\n",
    "    return np.random.choice([0, 1], size=(M, N), p=[1-a, a])\n",
    "\n",
    "def stochastic_spike_variable_exc(state):\n",
    "        firing_probability = 0.5 * (state + 1) \n",
    "        sigma = np.random.binomial(1, firing_probability) # P{σ_i(t) = +1 | S_i(t)}\n",
    "        return sigma\n",
    "\n",
    "def stochastic_spike_variable_inh(K, sigma):\n",
    "        firing_probability = 1/K * np.sum(sigma)\n",
    "        sigma = np.random.binomial(1, firing_probability) # P{σ_i(t) = +1 | S_i(t)}\n",
    "        return sigma\n",
    "'''\n",
    "def compute_overlap_exc(patterns, sigma, sigma_I, a, N, N_I):\n",
    "    \"\"\"\n",
    "    Compute synaptic weights for excitatory-excitatory.\n",
    "    \"\"\"\n",
    "    M = patterns.shape[0]\n",
    "    c = 2 / (a * (1 - a))\n",
    "    m = np.zeros(patterns.shape[0])\n",
    "    for i in range(len(m)):\n",
    "        m[i] = c / N * np.dot(patterns[i, :],sigma) - c / N_I * a[i] * np.sum(sigma_I)\n",
    "    return m\n",
    "\n",
    "def compute_syn_weights_inh(K, N_I):\n",
    "    \"\"\"\n",
    "    Compute synaptic weights for inhibitory-excitatory.\n",
    "    \"\"\"\n",
    "    return np.ones(N_I)/K\n",
    "\n",
    "def compute_inputs_exc(m, patterns):\n",
    "    \"\"\"\n",
    "    Compute the state of the network.\n",
    "    \"\"\"\n",
    "    return np.dot(m, patterns.T)\n",
    "\n",
    "def compute_inputs_inh(K, N_I, sigma):\n",
    "    \"\"\"\n",
    "    Compute the state of the network.\n",
    "    \"\"\"\n",
    "    return compute_syn_weights_inh(K, N_I)*np.sum(sigma)\n",
    "'''"
   ]
  },
  {
   "cell_type": "code",
   "execution_count": 175,
   "metadata": {},
   "outputs": [],
   "source": [
    "def generate_low_activity_patterns(M, N, a):\n",
    "    \"\"\"\n",
    "    Generate low-activity random patterns with specified activity level.\n",
    "    \"\"\"\n",
    "    return np.random.choice([0, 1], size=(M, N), p=[1-a, a])\n",
    "\n",
    "def stochastic_spike_variable_exc(state):\n",
    "        firing_probability = 0.5 * (state + 1) \n",
    "        sigma = np.random.binomial(1, firing_probability) # P{σ_i(t) = +1 | S_i(t)}\n",
    "        return sigma\n",
    "\n",
    "def stochastic_spike_variable_inh(h_inh):\n",
    "        h_inh = np.tanh(h_inh)\n",
    "        #print(np.tanh(h_inh))\n",
    "        sigma_I = np.random.binomial(1, h_inh) # P{σ_i(t) = +1 | S_i(t)}\n",
    "        return sigma_I\n",
    "\n",
    "def compute_w_ee(N, a, patterns):\n",
    "    \"\"\"\n",
    "    Compute synaptic weights for excitatory-excitatory.\n",
    "    \"\"\"\n",
    "    c = 2 / (a * (1 - a))\n",
    "    w_ee = np.zeros((N, N))\n",
    "    for i in range(N):\n",
    "        for j in range(N):\n",
    "            w_ee[i, j] = c / N * np.dot(patterns[:, i], patterns[:, j])\n",
    "    return w_ee\n",
    "\n",
    "def compute_w_ie(K, N_I):\n",
    "    \"\"\"\n",
    "    Compute synaptic weights for excitatory-inhibitory.\n",
    "    \"\"\"\n",
    "    return np.ones((N_I))/K\n",
    "\n",
    "def compute_w_ei(N_I, a, patterns):\n",
    "    \"\"\"\n",
    "    Compute synaptic weights for inhibitory-excitatory.\n",
    "    \"\"\"\n",
    "    c = 2 / (a * (1 - a))\n",
    "    w_ei = c*a/N_I * np.sum(patterns, axis=0)\n",
    "    return w_ei\n",
    "\n",
    "def compute_inputs_exc(N, N_I, w_ee, w_ei, sigma, sigma_I, selected_exc):\n",
    "    \"\"\"\n",
    "    Compute the state of the network.\n",
    "    Each inhibitry neuron output maps back to its pre-synaptic excitatory neurons.\n",
    "    \"\"\"\n",
    "    sigma_I_expanded = np.zeros((N, N_I))\n",
    "    #print(selected_exc)\n",
    "    for i in range(N_I):\n",
    "        sigma_I_expanded[selected_exc[:,i],i] = sigma_I[i]\n",
    "    sigma_I_expanded = np.sum(sigma_I_expanded, axis=1)\n",
    "    return np.dot(w_ee, sigma) - np.dot(w_ei, sigma_I_expanded)\n",
    "\n",
    "def compute_inputs_inh(K, N_I, w_ie, sigma):\n",
    "    \"\"\"\n",
    "    Compute the state of the network.\n",
    "    We store the selected excitatory neurons for each inhibitory neuron.\n",
    "    \"\"\"\n",
    "    h_inh = np.zeros(N_I)\n",
    "    selected_exc = np.zeros((K, N_I), dtype=int)\n",
    "    for i in range(N_I):\n",
    "        selected_exc[:,i] = np.random.choice(N, size=K, replace=False)\n",
    "        input_exc = sigma[selected_exc[:,i]]\n",
    "        h_inh[i] = w_ie[i]*np.sum(input_exc)\n",
    "    return h_inh, selected_exc\n",
    "\n",
    "def compute_state(s, theta):\n",
    "    \"\"\"\n",
    "    Compute the state of the network.\n",
    "    \"\"\"\n",
    "    return np.tanh(s-theta)\n",
    "\n",
    "def hamming_distance(patterns, sigma):\n",
    "    \"\"\"\n",
    "    Compute the hamming distance between patterns and sigma.\n",
    "    \"\"\"\n",
    "    return (len(sigma) - np.dot(patterns, sigma))/(2*len(sigma))\n"
   ]
  },
  {
   "cell_type": "code",
   "execution_count": 198,
   "metadata": {},
   "outputs": [],
   "source": [
    "def update_network(N, N_I, sigma_E, sigma_I, W_EE, W_EI, W_IE, selected_neurons, theta):\n",
    "    \"\"\"\n",
    "    Update the network synchronously.\n",
    "    \"\"\"\n",
    "    inputs_E = compute_inputs_exc(N, N_I, W_EE, sigma_E, W_EI, sigma_I, selected_neurons)\n",
    "    inputs_I, selected_neurons = compute_inputs_inh(K, N_I, W_IE, sigma_E)\n",
    "\n",
    "    # Update states based on inputs\n",
    "    #sigma_E = np.array([stochastic_spike_variable_exc(input - theta) for input in inputs_E]) # fix this\n",
    "    #sigma_I = np.array([stochastic_spike_variable_inh(input - theta) for input in inputs_I]) # fix this\n",
    "\n",
    "    state_E = compute_state(inputs_E, theta)\n",
    "    #state_I = compute_state(inputs_I, theta)\n",
    "    state_I = inputs_I\n",
    "    return state_E, state_I, selected_neurons\n",
    "\n",
    "def simulate_network(N, N_I, M, K, a, theta, num_steps, update_type='synchronous'):\n",
    "    \"\"\"\n",
    "    Simulate the network dynamics.\n",
    "    \"\"\"\n",
    "    patterns = generate_low_activity_patterns(M, N, a)\n",
    "    # flip 5% of indices\n",
    "    initial_state = patterns[0,:].copy()\n",
    "    #flip_indices = np.random.choice(len(initial_state), int(N*0.05), replace=False)\n",
    "    #initial_state[list(flip_indices)] *= -1\n",
    "    state_E = initial_state\n",
    "    state_I = np.random.choice([0, 1], size=N_I, p=[1-a, a])\n",
    "\n",
    "    W_EE = compute_w_ee(N, a, patterns)\n",
    "    W_EI = compute_w_ei(N_I, a, patterns)\n",
    "    W_IE = compute_w_ie(K, N_I)\n",
    "\n",
    "    sigma_E = stochastic_spike_variable_exc(state_E)\n",
    "    sigma_I = stochastic_spike_variable_inh(state_I)\n",
    "\n",
    "    selected_neurons = np.zeros((K, N_I), dtype=int)\n",
    "    store = {\"excitatory_sync\":[], \n",
    "             \"inhibitory_sync\":[],\n",
    "             \"excitatory_async\":[],\n",
    "             \"inhibitory_async\":[],\n",
    "             \"patterns\":[]}\n",
    "    ham_dist = []\n",
    "\n",
    "    for step in range(num_steps):\n",
    "        if update_type == 'synchronous':\n",
    "            state_E, state_I, selected_neurons = update_network(N, N_I, sigma_E, sigma_I, W_EE, W_EI, W_IE, selected_neurons, theta)\n",
    "            sigma_E = stochastic_spike_variable_exc(state_E)\n",
    "            sigma_I = stochastic_spike_variable_inh(state_I)\n",
    "            store['excitatory_sync'].append(np.sum(state_E))\n",
    "            store['inhibitory_sync'].append(np.sum(state_I))\n",
    "            \n",
    "        else:\n",
    "            # Asynchronous update: Update one neuron at a time\n",
    "            inputs_I, selected_neurons = compute_inputs_inh(K, N_I, W_IE, sigma_E)\n",
    "            sigma_I = stochastic_spike_variable_inh(inputs_I)\n",
    "            #state_E = compute_state(compute_inputs_exc(N, N_I, W_EE, W_EI, sigma_E, sigma_I, selected_neurons),theta)\n",
    "            #sigma_E = stochastic_spike_variable_exc(state_E)\n",
    "            state_E, state_I, selected_neurons = update_network(N, N_I, sigma_E, sigma_I, W_EE, W_EI, W_IE, selected_neurons, theta)\n",
    "            store['excitatory_async'].append(np.sum(sigma_E))\n",
    "            store['inhibitory_async'].append(np.sum(sigma_I))\n",
    "        ham_dist.append(hamming_distance(patterns, sigma_E))\n",
    "    return store, ham_dist\n",
    "\n",
    "# Parameters\n",
    "N = 300  # Number of excitatory neurons\n",
    "N_I = 80 # Number of inhibitory neurons\n",
    "M = 10   # Number of patterns\n",
    "K = 60   # Connections from excitatory to inhibitory\n",
    "a = 0.1  # Activity level\n",
    "theta = 1# Threshold\n",
    "num_steps = 100\n",
    "\n",
    "# Initial random states\n",
    "#state_E = np.random.choice([0, 1], size=N, p=[1-a, a])\n",
    "state_I = np.random.choice([0, 1], size=N_I, p=[1-a, a])\n",
    "\n",
    "# Run the simulation\n",
    "#states_sync = simulate_network(N, N_I, M, K, a, theta, num_steps, update_type='synchronous')\n",
    "#states_async = simulate_network(N, N_I, M, K, a, theta, num_steps, update_type='asynchronous')\n",
    "store, ham_dist = simulate_network(N, N_I, M, K, a, theta, num_steps, update_type='synchronous')"
   ]
  },
  {
   "cell_type": "code",
   "execution_count": 199,
   "metadata": {},
   "outputs": [
    {
     "data": {
      "text/plain": [
       "[<matplotlib.lines.Line2D at 0x1314f3590>]"
      ]
     },
     "execution_count": 199,
     "metadata": {},
     "output_type": "execute_result"
    },
    {
     "data": {
      "image/png": "[encoded data removed]",
      "text/plain": [
       "<Figure size 640x480 with 1 Axes>"
      ]
     },
     "metadata": {},
     "output_type": "display_data"
    }
   ],
   "source": [
    "plt.plot(np.arange(num_steps), np.array(store['inhibitory_sync']), label='Excitatory')"
   ]
  },
  {
   "cell_type": "markdown",
   "metadata": {},
   "source": [
    "### Maybe I have to convert the states either into 0 and 1 or patterns into 1 and -1"
   ]
  },
  {
   "cell_type": "code",
   "execution_count": 195,
   "metadata": {},
   "outputs": [],
   "source": [
    "def retrieve_patterns(ham_dist, M, N):\n",
    "    \"\"\"\n",
    "    Retrieve the stored patterns.\n",
    "    \"\"\"\n",
    "    M_max = 0\n",
    "    for i in range(M):\n",
    "        if ham_dist[-1,i] < 0.05:\n",
    "            M_max += 1\n",
    "    return M_max / N"
   ]
  },
  {
   "cell_type": "code",
   "execution_count": 200,
   "metadata": {},
   "outputs": [
    {
     "data": {
      "text/plain": [
       "[<matplotlib.lines.Line2D at 0x16a6e3e50>]"
      ]
     },
     "execution_count": 200,
     "metadata": {},
     "output_type": "execute_result"
    },
    {
     "data": {
      "image/png": "[encoded data removed]",
      "text/plain": [
       "<Figure size 640x480 with 1 Axes>"
      ]
     },
     "metadata": {},
     "output_type": "display_data"
    }
   ],
   "source": [
    "M = np.linspace(5,80,16)\n",
    "retrieved_patterns = np.zeros(len(M))\n",
    "\n",
    "for i,m in enumerate(M):\n",
    "    store, hamm_dist = simulate_network(N, N_I, int(m), K, a, theta, num_steps, update_type='synchronous')\n",
    "    hd = np.stack(hamm_dist)\n",
    "    retrieved_patterns[i] = retrieve_patterns(hd, int(m), N)\n",
    "\n",
    "plt.figure()\n",
    "plt.plot(M/N, retrieved_patterns, label='Inhibitory') "
   ]
  },
  {
   "cell_type": "code",
   "execution_count": 201,
   "metadata": {},
   "outputs": [
    {
     "name": "stdout",
     "output_type": "stream",
     "text": [
      "[0.44333333 0.46833333 0.48       0.45833333 0.465      0.465\n",
      " 0.475      0.47666667 0.475      0.47166667]\n"
     ]
    },
    {
     "data": {
      "image/png": "[encoded data removed]",
      "text/plain": [
       "<Figure size 640x480 with 1 Axes>"
      ]
     },
     "metadata": {},
     "output_type": "display_data"
    }
   ],
   "source": [
    "plt.figure()\n",
    "store, hamm_dist = simulate_network(N, N_I, 10, K, a, theta, num_steps, update_type='asynchronous')\n",
    "plt.plot(np.arange(num_steps), hamm_dist, label='Excitatory')\n",
    "print(hamm_dist[-1])"
   ]
  },
  {
   "cell_type": "markdown",
   "metadata": {},
   "source": [
    "# Simpler implementation using neurodynx3 library"
   ]
  },
  {
   "cell_type": "code",
   "execution_count": null,
   "metadata": {},
   "outputs": [],
   "source": []
  }
 ],
 "metadata": {
  "kernelspec": {
   "display_name": "comp_neuro",
   "language": "python",
   "name": "python3"
  },
  "language_info": {
   "codemirror_mode": {
    "name": "ipython",
    "version": 3
   },
   "file_extension": ".py",
   "mimetype": "text/x-python",
   "name": "python",
   "nbconvert_exporter": "python",
   "pygments_lexer": "ipython3",
   "version": "3.11.5"
  }
 },
 "nbformat": 4,
 "nbformat_minor": 2
}
