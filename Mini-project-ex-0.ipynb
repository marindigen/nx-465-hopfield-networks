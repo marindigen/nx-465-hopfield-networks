{
 "cells": [
  {
   "cell_type": "markdown",
   "metadata": {},
   "source": [
    "# Ex 0. Getting Started: standard Hopfield network"
   ]
  },
  {
   "cell_type": "markdown",
   "metadata": {},
   "source": [
    "**0.1.** Write a method that generates binary balanced random patterns; and a method that computes the next state S(t + 1) of the network, given the current state S(t) = (S1(t), . . . , SN (t)) and a set of patterns P1,...,PM, according to eqs.(1)-(2)."
   ]
  },
  {
   "cell_type": "code",
   "execution_count": 1,
   "metadata": {},
   "outputs": [],
   "source": [
    "import numpy as np"
   ]
  },
  {
   "cell_type": "code",
   "execution_count": 17,
   "metadata": {},
   "outputs": [],
   "source": [
    "def generate_patterns(M, N):\n",
    "    \"\"\"\n",
    "    Args:\n",
    "        M: number of patterns\n",
    "        N: number of neurons\n",
    "    Output:\n",
    "        generates binary balanced random patterns\n",
    "    \"\"\"\n",
    "    return np.random.choice([-1, 1], size=(M, N))\n",
    "#initial_sequences = [np.random.choice([-1, 1], size=N) for _ in range(M)]\n",
    "#seqs = np.stack(initial_sequences, axis=0)"
   ]
  },
  {
   "cell_type": "code",
   "execution_count": 18,
   "metadata": {},
   "outputs": [],
   "source": [
    "def next_state(S, seqs, beta=4):\n",
    "    W = np.zeros((len(S), len(S)))\n",
    "    for i in range(len(S)):\n",
    "        for j in range(len(S)):\n",
    "            W[i,j] = 1/len(S)*np.dot(seqs[:,i],seqs[:,j])\n",
    "    new_S = np.tanh(beta*(W@S))\n",
    "    return new_S, W\n",
    "    "
   ]
  },
  {
   "cell_type": "code",
   "execution_count": 30,
   "metadata": {},
   "outputs": [
    {
     "name": "stdout",
     "output_type": "stream",
     "text": [
      "First pattern sum: 0 [ 1 -1 -1  1  1 -1  1 -1  1 -1 -1 -1  1 -1  1  1 -1 -1  1  1  1 -1  1  1\n",
      "  1  1 -1 -1 -1  1  1  1 -1 -1 -1 -1 -1 -1 -1 -1  1  1  1  1  1  1  1 -1\n",
      "  1  1  1  1  1 -1 -1 -1 -1  1 -1 -1  1 -1  1 -1 -1  1  1 -1 -1 -1 -1 -1\n",
      " -1 -1  1 -1  1 -1 -1  1  1  1 -1 -1 -1 -1  1  1  1 -1  1  1  1  1  1  1\n",
      "  1 -1 -1 -1]\n",
      "Intial state sum: -6 [-1 -1 -1  1  1 -1  1 -1  1 -1 -1 -1  1 -1  1 -1 -1 -1  1  1  1 -1  1  1\n",
      "  1  1 -1 -1 -1  1  1  1 -1 -1 -1 -1  1 -1 -1 -1  1  1  1  1  1  1 -1 -1\n",
      "  1  1  1  1  1 -1 -1 -1 -1  1 -1 -1  1 -1  1 -1 -1  1  1 -1 -1 -1 -1 -1\n",
      " -1 -1  1 -1  1 -1 -1  1  1  1 -1 -1 -1 -1  1  1  1 -1  1  1  1 -1  1  1\n",
      "  1 -1 -1 -1]\n"
     ]
    }
   ],
   "source": [
    "N = 100  # Number of neurons\n",
    "M = 5  # Number of patterns\n",
    "patterns = generate_patterns(M, N)\n",
    "\n",
    "# flip 5% of indices\n",
    "initial_state = patterns[0,:].copy()\n",
    "c = 0.05\n",
    "flip_indices = np.random.choice(len(initial_state), int(N*c), replace=False)\n",
    "initial_state[list(flip_indices)] *= -1\n",
    "\n",
    "print(\"First pattern sum:\",np.sum(patterns[0,:]), patterns[0,:])\n",
    "print(\"Intial state sum:\", np.sum(initial_state), initial_state)"
   ]
  },
  {
   "cell_type": "code",
   "execution_count": 31,
   "metadata": {},
   "outputs": [
    {
     "name": "stdout",
     "output_type": "stream",
     "text": [
      "Similarity between the 1st pattern and the current state: 0.997\n",
      "Similarity between the 1st pattern and the current state: 0.9986\n",
      "Similarity between the 1st pattern and the current state: 0.9986\n",
      "Similarity between the 1st pattern and the current state: 0.9986\n",
      "Similarity between the 1st pattern and the current state: 0.9986\n",
      "Similarity between the 1st pattern and the current state: 0.9986\n",
      "Similarity between the 1st pattern and the current state: 0.9986\n",
      "Similarity between the 1st pattern and the current state: 0.9986\n",
      "Similarity between the 1st pattern and the current state: 0.9986\n",
      "Similarity between the 1st pattern and the current state: 0.9986\n",
      "Similarity between the 1st pattern and the current state: 0.9986\n",
      "Similarity between the 1st pattern and the current state: 0.9986\n",
      "Similarity between the 1st pattern and the current state: 0.9986\n",
      "Similarity between the 1st pattern and the current state: 0.9986\n",
      "Similarity between the 1st pattern and the current state: 0.9986\n"
     ]
    }
   ],
   "source": [
    "# evolution of the network after n steps\n",
    "n = 15\n",
    "S = initial_state\n",
    "for i in range(n):\n",
    "    S, __ = next_state(S, patterns, beta=4)\n",
    "    print(\"Similarity between the 1st pattern and the current state:\", round(np.dot(S,patterns[0,:])/N,4))"
   ]
  },
  {
   "cell_type": "code",
   "execution_count": 34,
   "metadata": {},
   "outputs": [
    {
     "name": "stdout",
     "output_type": "stream",
     "text": [
      "Similarity between 1 pattern and final state: 0.9986\n",
      "Similarity between 2 pattern and final state: 0.0607\n",
      "Similarity between 3 pattern and final state: 0.0\n",
      "Similarity between 4 pattern and final state: 0.121\n",
      "Similarity between 5 pattern and final state: 0.0809\n"
     ]
    }
   ],
   "source": [
    "for m in range(M):\n",
    "    print(f\"Similarity between {m+1} pattern and final state: {round(np.abs(np.dot(S,patterns[m,:])/N),4)}\")"
   ]
  },
  {
   "cell_type": "code",
   "execution_count": null,
   "metadata": {},
   "outputs": [],
   "source": []
  }
 ],
 "metadata": {
  "kernelspec": {
   "display_name": "blci",
   "language": "python",
   "name": "python3"
  },
  "language_info": {
   "codemirror_mode": {
    "name": "ipython",
    "version": 3
   },
   "file_extension": ".py",
   "mimetype": "text/x-python",
   "name": "python",
   "nbconvert_exporter": "python",
   "pygments_lexer": "ipython3",
   "version": "3.12.3"
  }
 },
 "nbformat": 4,
 "nbformat_minor": 2
}
