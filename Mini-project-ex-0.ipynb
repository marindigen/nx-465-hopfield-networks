{
 "cells": [
  {
   "cell_type": "markdown",
   "metadata": {},
   "source": [
    "# Ex 0. Getting Started: standard Hopfield network"
   ]
  },
  {
   "cell_type": "markdown",
   "metadata": {},
   "source": [
    "**0.1.** Write a method that generates binary balanced random patterns; and a method that computes the next state S(t + 1) of the network, given the current state S(t) = (S1(t), . . . , SN (t)) and a set of patterns P1,...,PM, according to eqs.(1)-(2)."
   ]
  },
  {
   "cell_type": "code",
   "execution_count": 1,
   "metadata": {},
   "outputs": [],
   "source": [
    "import numpy as np"
   ]
  },
  {
   "cell_type": "code",
   "execution_count": 8,
   "metadata": {},
   "outputs": [],
   "source": [
    "def generate_patterns(M, N):\n",
    "    \"\"\"\n",
    "    Args:\n",
    "        M: number of patterns\n",
    "        N: number of neurons\n",
    "    Output:\n",
    "        Generates binary balanced random patterns.\n",
    "    \"\"\"\n",
    "    return np.random.choice([-1, 1], size=(M, N))\n",
    "#initial_sequences = [np.random.choice([-1, 1], size=N) for _ in range(M)]\n",
    "#seqs = np.stack(initial_sequences, axis=0)\n",
    "\n",
    "def next_state(S, seqs, beta=4):\n",
    "    \"\"\"\n",
    "    Args:\n",
    "        S: state of the sequence\n",
    "        seqs: the sequences of the patterns\n",
    "        beta: constant for the tanh function\n",
    "    Output:\n",
    "        Updates the sequence and outputs the new sequence and the weights\n",
    "        of the interactions between spins in the sequence.\n",
    "    \"\"\"\n",
    "    W = np.zeros((len(S), len(S)))\n",
    "    for i in range(len(S)):\n",
    "        for j in range(len(S)):\n",
    "            W[i, j] = 1 / len(S) * np.sum((seqs[:, i]) * (seqs[:, j]))\n",
    "    new_S = np.tanh(beta*(W@S))\n",
    "    return new_S, W\n",
    "    "
   ]
  },
  {
   "cell_type": "code",
   "execution_count": 9,
   "metadata": {},
   "outputs": [
    {
     "name": "stdout",
     "output_type": "stream",
     "text": [
      "First pattern sum: -6 [ 1 -1 -1 -1  1 -1 -1 -1 -1  1 -1 -1  1 -1  1  1  1 -1 -1 -1  1 -1  1 -1\n",
      " -1 -1  1 -1 -1 -1  1 -1  1 -1  1 -1  1 -1  1  1 -1 -1 -1  1 -1 -1  1 -1\n",
      " -1 -1 -1  1 -1  1  1 -1  1  1 -1  1  1  1 -1 -1 -1 -1 -1  1  1 -1  1  1\n",
      " -1  1  1  1 -1  1  1  1 -1  1  1  1 -1 -1 -1  1 -1 -1  1  1  1  1 -1  1\n",
      "  1 -1 -1  1]\n",
      "Intial state sum: -4 [ 1 -1 -1 -1  1 -1 -1 -1 -1  1 -1 -1  1 -1  1  1  1 -1 -1 -1  1 -1  1 -1\n",
      "  1 -1  1  1 -1 -1  1 -1  1 -1  1 -1  1 -1  1  1 -1 -1 -1  1 -1 -1  1 -1\n",
      " -1 -1 -1  1 -1  1 -1 -1  1  1 -1  1  1  1 -1 -1 -1 -1 -1  1  1 -1  1  1\n",
      " -1  1  1  1 -1  1  1  1 -1  1  1  1  1 -1 -1  1 -1 -1 -1  1  1  1 -1  1\n",
      "  1 -1 -1  1]\n"
     ]
    }
   ],
   "source": [
    "N = 100  # Number of neurons\n",
    "M = 5  # Number of patterns\n",
    "patterns = generate_patterns(M, N)\n",
    "\n",
    "# flip 5% of indices\n",
    "initial_state = patterns[0,:].copy()\n",
    "c = 0.05\n",
    "flip_indices = np.random.choice(len(initial_state), int(N*c), replace=False)\n",
    "initial_state[list(flip_indices)] *= -1\n",
    "\n",
    "print(\"First pattern sum:\",np.sum(patterns[0,:]), patterns[0,:])\n",
    "print(\"Intial state sum:\", np.sum(initial_state), initial_state)"
   ]
  },
  {
   "cell_type": "code",
   "execution_count": 10,
   "metadata": {},
   "outputs": [
    {
     "name": "stdout",
     "output_type": "stream",
     "text": [
      "Similarity between the 1st pattern and the current state: 0.9966\n",
      "Similarity between the 1st pattern and the current state: 0.999\n",
      "Similarity between the 1st pattern and the current state: 0.9991\n",
      "Similarity between the 1st pattern and the current state: 0.9991\n",
      "Similarity between the 1st pattern and the current state: 0.9991\n",
      "Similarity between the 1st pattern and the current state: 0.9991\n",
      "Similarity between the 1st pattern and the current state: 0.9991\n",
      "Similarity between the 1st pattern and the current state: 0.9991\n",
      "Similarity between the 1st pattern and the current state: 0.9991\n",
      "Similarity between the 1st pattern and the current state: 0.9991\n",
      "Similarity between the 1st pattern and the current state: 0.9991\n",
      "Similarity between the 1st pattern and the current state: 0.9991\n",
      "Similarity between the 1st pattern and the current state: 0.9991\n",
      "Similarity between the 1st pattern and the current state: 0.9991\n",
      "Similarity between the 1st pattern and the current state: 0.9991\n"
     ]
    }
   ],
   "source": [
    "# evolution of the network after n steps\n",
    "n = 15\n",
    "S = initial_state\n",
    "for i in range(n):\n",
    "    S, __ = next_state(S, patterns, beta=4)\n",
    "    print(\"Similarity between the 1st pattern and the current state:\", round(np.dot(S,patterns[0,:])/N,4))"
   ]
  },
  {
   "cell_type": "code",
   "execution_count": null,
   "metadata": {},
   "outputs": [
    {
     "name": "stdout",
     "output_type": "stream",
     "text": [
      "Similarity between 1 pattern and final state: 0.9986\n",
      "Similarity between 2 pattern and final state: 0.0607\n",
      "Similarity between 3 pattern and final state: 0.0\n",
      "Similarity between 4 pattern and final state: 0.121\n",
      "Similarity between 5 pattern and final state: 0.0809\n"
     ]
    }
   ],
   "source": [
    "for m in range(M):\n",
    "    print(f\"Similarity between {m+1} pattern and final state: {round(np.abs(np.dot(S,patterns[m,:])/N),4)}\")"
   ]
  },
  {
   "cell_type": "markdown",
   "metadata": {},
   "source": [
    "## Alternative implementation"
   ]
  },
  {
   "cell_type": "code",
   "execution_count": 2,
   "metadata": {},
   "outputs": [
    {
     "name": "stdout",
     "output_type": "stream",
     "text": [
      "Overlaps with each pattern: [0.9985530189855538, -0.0403246446118404, -0.00015715294139141635, -0.08080838344970578, -0.08076846576299174]\n"
     ]
    }
   ],
   "source": [
    "import numpy as np\n",
    "\n",
    "class HopfieldNetwork:\n",
    "    def __init__(self, N):\n",
    "        self.N = N\n",
    "        self.weights = np.zeros((N, N))\n",
    "    \n",
    "    def generate_patterns(self, M):\n",
    "        \"\"\"Generates M random patterns with components +1 or -1 with equal probability.\"\"\"\n",
    "        return np.random.choice([-1, 1], (M, self.N))\n",
    "    \n",
    "    def train(self, patterns):\n",
    "        \"\"\"Trains the network using Hebbian learning rule.\"\"\"\n",
    "        M = patterns.shape[0]\n",
    "        for i in range(self.N):\n",
    "            for j in range(self.N):\n",
    "                if i != j:\n",
    "                    self.weights[i, j] = np.sum(patterns[:, i] * patterns[:, j]) / self.N\n",
    "                else:\n",
    "                    self.weights[i, j] = 0\n",
    "    \n",
    "    def update_state(self, state, beta=4):\n",
    "        \"\"\"Updates the network state using the hyperbolic tangent function.\"\"\"\n",
    "        h = np.dot(self.weights, state)\n",
    "        return np.tanh(beta * h)\n",
    "    \n",
    "    def run_dynamics(self, initial_state, steps=10):\n",
    "        \"\"\"Simulates the network dynamics for a number of steps.\"\"\"\n",
    "        state = initial_state.copy()\n",
    "        for _ in range(steps):\n",
    "            state = self.update_state(state)\n",
    "        return state\n",
    "    \n",
    "    def calculate_overlap(self, state, pattern):\n",
    "        \"\"\"Calculates the overlap between the current state and a given pattern.\"\"\"\n",
    "        return np.dot(state, pattern) / self.N\n",
    "\n",
    "# Parameters\n",
    "N = 100  # Number of neurons\n",
    "M = 5    # Number of patterns\n",
    "c = 0.05 # Percentage of neurons to flip\n",
    "\n",
    "# Initialize the Hopfield network\n",
    "network = HopfieldNetwork(N)\n",
    "\n",
    "# Generate patterns and train the network\n",
    "patterns = network.generate_patterns(M)\n",
    "network.train(patterns)\n",
    "\n",
    "# Set initial state close to the first pattern\n",
    "initial_state = patterns[0].copy()\n",
    "flip_indices = np.random.choice(N, int(N * c), replace=False)\n",
    "initial_state[flip_indices] *= -1  # Flip the sign of selected neurons\n",
    "\n",
    "# Run the dynamics of the network\n",
    "final_state = network.run_dynamics(initial_state, steps=20)\n",
    "\n",
    "# Evaluate the result\n",
    "overlaps = [network.calculate_overlap(final_state, p) for p in patterns]\n",
    "print(\"Overlaps with each pattern:\", overlaps)\n"
   ]
  },
  {
   "cell_type": "code",
   "execution_count": null,
   "metadata": {},
   "outputs": [],
   "source": []
  }
 ],
 "metadata": {
  "kernelspec": {
   "display_name": "blci",
   "language": "python",
   "name": "python3"
  },
  "language_info": {
   "codemirror_mode": {
    "name": "ipython",
    "version": 3
   },
   "file_extension": ".py",
   "mimetype": "text/x-python",
   "name": "python",
   "nbconvert_exporter": "python",
   "pygments_lexer": "ipython3",
   "version": "3.11.5"
  }
 },
 "nbformat": 4,
 "nbformat_minor": 2
}
