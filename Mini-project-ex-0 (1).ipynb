{
 "cells": [
  {
   "cell_type": "markdown",
   "metadata": {},
   "source": [
    "# Ex 0. Getting Started: standard Hopfield network"
   ]
  },
  {
   "cell_type": "markdown",
   "metadata": {},
   "source": [
    "**0.1.** Write a method that generates binary balanced random patterns; and a method that computes the next state S(t + 1) of the network, given the current state S(t) = (S1(t), . . . , SN (t)) and a set of patterns P1,...,PM, according to eqs.(1)-(2)."
   ]
  },
  {
   "cell_type": "code",
   "execution_count": 38,
   "metadata": {},
   "outputs": [],
   "source": [
    "import numpy as np\n",
    "import matplotlib.pyplot as plt"
   ]
  },
  {
   "cell_type": "code",
   "execution_count": 39,
   "metadata": {},
   "outputs": [],
   "source": [
    "def generate_patterns(M, N):\n",
    "    \"\"\"\n",
    "    Args:\n",
    "        M: number of patterns\n",
    "        N: number of neurons\n",
    "    Output:\n",
    "        Generates binary balanced random patterns.\n",
    "    \"\"\"\n",
    "    return np.random.choice([-1, 1], size=(M, N))\n",
    "#initial_sequences = [np.random.choice([-1, 1], size=N) for _ in range(M)]\n",
    "#seqs = np.stack(initial_sequences, axis=0)"
   ]
  },
  {
   "cell_type": "code",
   "execution_count": 40,
   "metadata": {},
   "outputs": [],
   "source": [
    "def next_state(S, seqs, beta=4):\n",
    "    \"\"\"\n",
    "    Args:\n",
    "        S: state of the sequence\n",
    "        seqs: the sequences of the patterns\n",
    "        beta: constant for the tanh function\n",
    "    Output:\n",
    "        Updates the sequence and outputs the new sequence and the weights\n",
    "        of the interactions between spins in the sequence.\n",
    "    \"\"\"\n",
    "    W = np.zeros((len(S), len(S)))\n",
    "    for i in range(len(S)):\n",
    "        for j in range(len(S)):\n",
    "            W[i,j] = 1/len(S)*np.dot(seqs[:,i],seqs[:,j])\n",
    "    new_S = np.tanh(beta*(W@S))\n",
    "    return new_S, W\n",
    "    "
   ]
  },
  {
   "cell_type": "code",
   "execution_count": 41,
   "metadata": {},
   "outputs": [
    {
     "name": "stdout",
     "output_type": "stream",
     "text": [
      "First pattern sum: 6 [ 1 -1 -1 -1 -1  1 -1  1  1  1  1 -1 -1  1 -1  1 -1  1  1 -1  1 -1 -1  1\n",
      "  1  1  1  1  1  1 -1 -1 -1  1 -1 -1 -1  1 -1 -1  1  1  1  1 -1 -1 -1 -1\n",
      " -1  1 -1  1  1 -1  1 -1 -1  1  1  1 -1  1 -1 -1 -1 -1  1  1  1  1 -1 -1\n",
      " -1  1 -1  1 -1  1  1  1 -1 -1  1 -1  1 -1  1  1  1 -1  1  1  1  1  1 -1\n",
      " -1  1 -1  1]\n",
      "Intial state sum: 4 [ 1 -1 -1 -1 -1  1 -1  1  1  1  1 -1 -1  1 -1  1  1  1  1 -1  1 -1 -1 -1\n",
      "  1  1  1 -1  1  1 -1 -1 -1  1 -1 -1 -1  1  1 -1 -1  1  1  1 -1 -1 -1 -1\n",
      " -1  1 -1  1  1 -1  1 -1 -1  1  1  1 -1  1 -1 -1 -1 -1  1  1  1  1 -1 -1\n",
      " -1  1 -1  1 -1  1  1  1 -1 -1  1 -1  1 -1  1  1  1 -1  1  1  1  1  1 -1\n",
      " -1  1 -1  1]\n"
     ]
    }
   ],
   "source": [
    "N = 100  # Number of neurons\n",
    "M = 5  # Number of patterns\n",
    "patterns = generate_patterns(M, N)\n",
    "\n",
    "# flip 5% of indices\n",
    "initial_state = patterns[0,:].copy()\n",
    "c = 0.05\n",
    "flip_indices = np.random.choice(len(initial_state), int(N*c), replace=False)\n",
    "initial_state[list(flip_indices)] *= -1\n",
    "\n",
    "print(\"First pattern sum:\",np.sum(patterns[0,:]), patterns[0,:])\n",
    "print(\"Intial state sum:\", np.sum(initial_state), initial_state)"
   ]
  },
  {
   "cell_type": "code",
   "execution_count": 42,
   "metadata": {},
   "outputs": [
    {
     "name": "stdout",
     "output_type": "stream",
     "text": [
      "Similarity between the 1st pattern and the current state: 0.9978\n",
      "Similarity between the 1st pattern and the current state: 0.9988\n",
      "Similarity between the 1st pattern and the current state: 0.9988\n",
      "Similarity between the 1st pattern and the current state: 0.9988\n",
      "Similarity between the 1st pattern and the current state: 0.9988\n",
      "Similarity between the 1st pattern and the current state: 0.9988\n",
      "Similarity between the 1st pattern and the current state: 0.9988\n",
      "Similarity between the 1st pattern and the current state: 0.9988\n",
      "Similarity between the 1st pattern and the current state: 0.9988\n",
      "Similarity between the 1st pattern and the current state: 0.9988\n",
      "Similarity between the 1st pattern and the current state: 0.9988\n",
      "Similarity between the 1st pattern and the current state: 0.9988\n",
      "Similarity between the 1st pattern and the current state: 0.9988\n",
      "Similarity between the 1st pattern and the current state: 0.9988\n",
      "Similarity between the 1st pattern and the current state: 0.9988\n"
     ]
    }
   ],
   "source": [
    "# evolution of the network after n steps\n",
    "n = 15\n",
    "S = initial_state\n",
    "for i in range(n):\n",
    "    S, __ = next_state(S, patterns, beta=4)\n",
    "    print(\"Similarity between the 1st pattern and the current state:\", round(np.dot(S,patterns[0,:])/N,4))"
   ]
  },
  {
   "cell_type": "code",
   "execution_count": 43,
   "metadata": {},
   "outputs": [
    {
     "name": "stdout",
     "output_type": "stream",
     "text": [
      "Similarity between 1 pattern and final state: 0.9988\n",
      "Similarity between 2 pattern and final state: 0.0603\n",
      "Similarity between 3 pattern and final state: 0.02\n",
      "Similarity between 4 pattern and final state: 0.0806\n",
      "Similarity between 5 pattern and final state: 0.1409\n"
     ]
    }
   ],
   "source": [
    "for m in range(M):\n",
    "    print(f\"Similarity between {m+1} pattern and final state: {round(np.abs(np.dot(S,patterns[m,:])/N),4)}\")"
   ]
  },
  {
   "cell_type": "markdown",
   "metadata": {},
   "source": [
    "# Ex 1. Storage capacity in the standard Hopfield network"
   ]
  },
  {
   "cell_type": "markdown",
   "metadata": {},
   "source": [
    "**1.1.** Write a method that computes the next state S(t + 1) of the network, given the current state S(t),\n",
    "and a set of M patterns P^µ."
   ]
  },
  {
   "cell_type": "code",
   "execution_count": 44,
   "metadata": {},
   "outputs": [],
   "source": [
    "def next_state_optimised(S, patterns, beta=4):\n",
    "    \"\"\"\n",
    "    Args:\n",
    "        S: state of the sequence\n",
    "        patterns: array of M patterns (each an array of size N)\n",
    "        beta: constant for the tanh function\n",
    "    Output:\n",
    "        The new state of neurones computed as a weighted sum of overlaps with \n",
    "        the patterns to represent the effective field at each neurone\n",
    "    \"\"\"\n",
    "    N = len(S) #number of neurones\n",
    "    M = len(patterns) #number of patterns\n",
    "    m = np.zeros(M) #overlap variables\n",
    "    \n",
    "    # calculating overlap variables:\n",
    "    for mu in range(M):\n",
    "        m[mu] = np.dot(patterns[mu],S) / N\n",
    "    \n",
    "    # updating state:\n",
    "    new_S_optimised = np.zeros(N)\n",
    "    for i in range(N):\n",
    "        input_field = np.dot(patterns[:,i], m)\n",
    "        new_S_optimised[i] = np.tanh(beta*input_field)\n",
    "        \n",
    "    return new_S_optimised"
   ]
  },
  {
   "cell_type": "code",
   "execution_count": 45,
   "metadata": {},
   "outputs": [
    {
     "name": "stdout",
     "output_type": "stream",
     "text": [
      "Computational Gain: 140.98x faster\n"
     ]
    }
   ],
   "source": [
    "# What is the gain in the computational cost of a single update step?\n",
    "import timeit\n",
    "\n",
    "time = timeit.timeit(lambda: next_state(initial_state, patterns, beta=4), number=10)\n",
    "time_optimised = timeit.timeit(lambda: next_state_optimised(initial_state, patterns, beta=4), number=10)\n",
    "\n",
    "# calculating computational gain\n",
    "comp_gain = time / time_optimised\n",
    "print(f\"Computational Gain: {comp_gain:.2f}x faster\")"
   ]
  },
  {
   "cell_type": "markdown",
   "metadata": {},
   "source": [
    "**1.2.** Write a method that computes the distance between two given patterns (using the Hamming distance)"
   ]
  },
  {
   "cell_type": "code",
   "execution_count": 46,
   "metadata": {},
   "outputs": [],
   "source": [
    "def distance_hamming(P_mu, P_nu):\n",
    "    \"\"\"\n",
    "    Args:\n",
    "        P_mu: first pattern\n",
    "        P_nu: second pattern\n",
    "    Output:\n",
    "        Normalised Hamming distance between two input patterns\n",
    "    \"\"\"\n",
    "    N = len(P_mu) #number of neurones\n",
    "    \n",
    "    # calculating Hamming distance \n",
    "    hamming_distance = (N - np.dot(P_mu, P_nu)) / (2 * N)\n",
    "    \n",
    "    return hamming_distance"
   ]
  },
  {
   "cell_type": "markdown",
   "metadata": {},
   "source": [
    "The Hamming distance measures how many neurones differ in states between two patterns. It can be used for assessing the memory retrieval accuracy within the network, by quantifying how much the final state of the network deviates from the original pattern after the network processes and updates it.\n",
    "\n",
    "The overlap defined in lectures calculates a normalised correlation between two patters, which represents their overall similarity. Higher overlap corresponds to fewer differences, therefore the relationship between the Hamming distance and the overlap is inversely proportional."
   ]
  },
  {
   "cell_type": "markdown",
   "metadata": {},
   "source": [
    "**1.3.** Create a Hopfield network and plot the evolution of the Hamming distance between the network’s state and each of the patterns"
   ]
  },
  {
   "cell_type": "code",
   "execution_count": 77,
   "metadata": {},
   "outputs": [
    {
     "data": {
      "image/png": "[encoded data removed]",
      "text/plain": [
       "<Figure size 720x360 with 1 Axes>"
      ]
     },
     "metadata": {
      "needs_background": "light"
     },
     "output_type": "display_data"
    },
    {
     "name": "stdout",
     "output_type": "stream",
     "text": [
      "First pattern retrieved successfully.\n"
     ]
    }
   ],
   "source": [
    "N = 300  # number of neurones\n",
    "M = 5    # number of patterns\n",
    "patterns = generate_patterns(M, N)\n",
    "\n",
    "# flip 15 bits\n",
    "initial_state = patterns[0,:].copy()\n",
    "c = 15/N\n",
    "flip_indices = np.random.choice(len(initial_state), int(N*c), replace=False)\n",
    "initial_state[list(flip_indices)] *= -1\n",
    "\n",
    "# simulating Hopfield network and calculating Hamming distances\n",
    "steps = 20\n",
    "current_state = initial_state\n",
    "distances_hamming = [[] for _ in range(M)]  \n",
    "\n",
    "for i in range(steps):\n",
    "    current_state = next_state_optimised(current_state, patterns, beta=4)\n",
    "    for pattern_index, pattern in enumerate(patterns):\n",
    "        distance = distance_hamming(current_state, pattern)\n",
    "        distances_hamming[pattern_index].append(distance)\n",
    "\n",
    "# plotting evolution of Hamming distance for each pattern\n",
    "plt.figure(figsize=(10, 5))\n",
    "for pattern_index, distances in enumerate(distances_hamming):\n",
    "    plt.plot(range(1, steps + 1), distances, label=f'Pattern {pattern_index + 1}', marker='o')\n",
    "\n",
    "plt.title('Evolution of Hamming Distance Over Time')\n",
    "plt.xlabel('Time Step')\n",
    "plt.ylabel('Hamming Distance')\n",
    "plt.legend()\n",
    "plt.grid(True)\n",
    "plt.show()\n",
    "\n",
    "# evaluating retrieval accuracy of first pattern\n",
    "threshold = 0.05 \n",
    "final_distance_first_pattern = distances_hamming[0][-1]\n",
    "if final_distance_first_pattern < threshold:\n",
    "    print(\"First pattern retrieval successful.\")\n",
    "else:\n",
    "    print(\"First pattern retrieval failed.\")"
   ]
  },
  {
   "cell_type": "markdown",
   "metadata": {},
   "source": [
    "**1.4.** For a dictionary of size M = 5, what are the mean and standard deviation (std) of the error of\n",
    "pattern retrieval, and of the number of retrieved patterns? To compute them, iterate over 10-15 different\n",
    "initialisations of the dictionary."
   ]
  },
  {
   "cell_type": "code",
   "execution_count": null,
   "metadata": {},
   "outputs": [],
   "source": []
  }
 ],
 "metadata": {
  "kernelspec": {
   "display_name": "Python 3 (ipykernel)",
   "language": "python",
   "name": "python3"
  },
  "language_info": {
   "codemirror_mode": {
    "name": "ipython",
    "version": 3
   },
   "file_extension": ".py",
   "mimetype": "text/x-python",
   "name": "python",
   "nbconvert_exporter": "python",
   "pygments_lexer": "ipython3",
   "version": "3.9.12"
  }
 },
 "nbformat": 4,
 "nbformat_minor": 2
}
