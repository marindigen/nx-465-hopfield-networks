{
 "cells": [
  {
   "cell_type": "markdown",
   "metadata": {},
   "source": [
    "# Ex 2. Low-activity patterns\n",
    "**2.1.** We now study the capacity of a Hopfield network with stochastic binary neurons and low-activity patterns. This model is proposed in the paper by [Tsodyks and Feigel’man (1988)] and discussed briefly in Chapter 17.2.6 of the book Neuronal Dynamics."
   ]
  },
  {
   "cell_type": "code",
   "execution_count": 1,
   "metadata": {},
   "outputs": [],
   "source": [
    "import numpy as np\n",
    "import matplotlib.pyplot as plt"
   ]
  },
  {
   "cell_type": "code",
   "execution_count": 9,
   "metadata": {},
   "outputs": [],
   "source": [
    "def stochastic_spike_variable(S):\n",
    "    # Directly create the array `sigma` based on the condition S[i] == 1\n",
    "    sigma = np.where(S == 1, 1, 0)\n",
    "    return sigma"
   ]
  },
  {
   "cell_type": "code",
   "execution_count": 10,
   "metadata": {},
   "outputs": [],
   "source": [
    "def generate_patterns(M, N):\n",
    "    \"\"\"\n",
    "    Args:\n",
    "        M: number of patterns\n",
    "        N: number of neurons\n",
    "    Output:\n",
    "        Generates binary balanced random patterns.\n",
    "    \"\"\"\n",
    "    return np.random.choice([-1, 1], size=(M, N))\n",
    "#initial_sequences = [np.random.choice([-1, 1], size=N) for _ in range(M)]\n",
    "#seqs = np.stack(initial_sequences, axis=0)"
   ]
  },
  {
   "cell_type": "code",
   "execution_count": 18,
   "metadata": {},
   "outputs": [],
   "source": [
    "def next_state_low_activity(S, seqs, a=0.5, b=0.5, c=0.02, theta=0.0, beta=4):\n",
    "    \"\"\"\n",
    "    Args:\n",
    "        S: state of the sequence\n",
    "        seqs: the sequences of the patterns\n",
    "        beta: constant for the tanh function\n",
    "    Output:\n",
    "        Updates the sequence and outputs the new sequence and the weights\n",
    "        of the interactions between spins in the sequence.\n",
    "    \"\"\"\n",
    "    W = np.zeros((len(S), len(S)))\n",
    "    for i in range(len(S)):\n",
    "        for j in range(len(S)):\n",
    "            W[i,j] = c/len(S)*np.dot(seqs[:,i]-b,seqs[:,j]-a)\n",
    "    new_S = np.tanh(beta*(W@S - theta))\n",
    "    return new_S, W"
   ]
  },
  {
   "cell_type": "code",
   "execution_count": 19,
   "metadata": {},
   "outputs": [
    {
     "name": "stdout",
     "output_type": "stream",
     "text": [
      "First pattern sum: -6 [-1 -1 -1  1 -1  1 -1  1  1 -1 -1 -1  1 -1  1  1  1  1 -1  1 -1  1 -1 -1\n",
      "  1  1  1  1  1  1  1 -1  1 -1  1 -1 -1 -1  1 -1 -1  1  1 -1 -1 -1  1 -1\n",
      "  1  1  1 -1 -1 -1 -1 -1 -1  1 -1 -1 -1  1  1 -1 -1 -1 -1 -1 -1  1 -1  1\n",
      "  1  1  1 -1 -1  1  1  1 -1 -1 -1 -1 -1  1  1  1 -1 -1  1 -1 -1 -1  1  1\n",
      "  1 -1  1  1]\n",
      "Intial state sum: -4 [-1 -1 -1  1  1  1 -1  1  1 -1 -1 -1  1 -1  1  1  1  1 -1  1 -1  1 -1 -1\n",
      "  1  1  1  1  1  1 -1  1  1 -1  1 -1 -1 -1  1 -1  1  1  1 -1 -1 -1 -1 -1\n",
      "  1  1  1 -1 -1 -1 -1 -1 -1  1 -1 -1 -1  1  1 -1 -1 -1 -1 -1 -1  1 -1  1\n",
      "  1  1  1 -1 -1  1  1  1 -1 -1 -1 -1 -1  1  1  1 -1 -1  1 -1 -1 -1  1  1\n",
      "  1 -1  1  1]\n"
     ]
    }
   ],
   "source": [
    "N = 100  # Number of neurons\n",
    "M = 5  # Number of patterns\n",
    "patterns = generate_patterns(M, N)\n",
    "# Constants for low activity patterns\n",
    "a,b = 0.5, 0.5\n",
    "c = (2*a*(1-a)*N)**(-1)\n",
    "theta = 0.0\n",
    "\n",
    "# flip 5% of indices\n",
    "initial_state = patterns[0,:].copy()\n",
    "c = 0.05\n",
    "flip_indices = np.random.choice(len(initial_state), int(N*c), replace=False)\n",
    "initial_state[list(flip_indices)] *= -1\n",
    "\n",
    "print(\"First pattern sum:\",np.sum(patterns[0,:]), patterns[0,:])\n",
    "print(\"Intial state sum:\", np.sum(initial_state), initial_state)"
   ]
  },
  {
   "cell_type": "code",
   "execution_count": 20,
   "metadata": {},
   "outputs": [
    {
     "name": "stdout",
     "output_type": "stream",
     "text": [
      "Similarity between the 1st pattern and the current state: 0.1889\n",
      "Similarity between the 1st pattern and the current state: 0.0527\n",
      "Similarity between the 1st pattern and the current state: 0.0178\n",
      "Similarity between the 1st pattern and the current state: 0.007\n",
      "Similarity between the 1st pattern and the current state: 0.0031\n",
      "Similarity between the 1st pattern and the current state: 0.0014\n",
      "Similarity between the 1st pattern and the current state: 0.0007\n",
      "Similarity between the 1st pattern and the current state: 0.0003\n",
      "Similarity between the 1st pattern and the current state: 0.0001\n",
      "Similarity between the 1st pattern and the current state: 0.0001\n",
      "Similarity between the 1st pattern and the current state: 0.0\n",
      "Similarity between the 1st pattern and the current state: 0.0\n",
      "Similarity between the 1st pattern and the current state: 0.0\n",
      "Similarity between the 1st pattern and the current state: 0.0\n",
      "Similarity between the 1st pattern and the current state: 0.0\n"
     ]
    }
   ],
   "source": [
    "# evolution of the network after n steps\n",
    "n = 15\n",
    "S = initial_state\n",
    "for i in range(n):\n",
    "    S, __ = next_state_low_activity(S, patterns, a, b, c, theta, beta=4)\n",
    "    print(\"Similarity between the 1st pattern and the current state:\", round(np.dot(S,patterns[0,:])/N,4))"
   ]
  },
  {
   "cell_type": "code",
   "execution_count": 15,
   "metadata": {},
   "outputs": [
    {
     "name": "stdout",
     "output_type": "stream",
     "text": [
      "Similarity between 1 pattern and final state: 0.0\n",
      "Similarity between 2 pattern and final state: 0.0\n",
      "Similarity between 3 pattern and final state: 0.0\n",
      "Similarity between 4 pattern and final state: 0.0\n",
      "Similarity between 5 pattern and final state: 0.0\n"
     ]
    }
   ],
   "source": [
    "for m in range(M):\n",
    "    print(f\"Similarity between {m+1} pattern and final state: {round(np.abs(np.dot(S,patterns[m,:])/N),4)}\")"
   ]
  },
  {
   "cell_type": "markdown",
   "metadata": {},
   "source": [
    "### Alternative implementation"
   ]
  },
  {
   "cell_type": "code",
   "execution_count": 32,
   "metadata": {},
   "outputs": [
    {
     "name": "stdout",
     "output_type": "stream",
     "text": [
      "[array([ 1, -1,  1,  1,  1, -1,  1, -1,  1, -1]), array([ 1,  1, -1,  1,  1, -1, -1, -1, -1,  1]), array([-1,  1,  1,  1,  1,  1,  1, -1,  1, -1])]\n",
      "[-0.9999985  -0.93020736  1.         -0.99997684 -0.99997684  1.\n",
      "  1.          0.9999998   1.         -0.99418597]\n"
     ]
    }
   ],
   "source": [
    "class StochasticHopfieldNetwork:\n",
    "    def __init__(self, size, a, b, beta=4, theta=0):\n",
    "        self.size = size\n",
    "        self.weights = np.zeros((size, size))\n",
    "        self.theta = theta  # Threshold for neuron firing\n",
    "        self.a = a\n",
    "        self.b = b\n",
    "        self.beta = beta\n",
    "\n",
    "    def train(self, patterns):\n",
    "        self.weights = np.zeros((self.size, self.size))\n",
    "        for pattern in patterns:\n",
    "            self.weights += np.outer(pattern-self.a, pattern-self.b)\n",
    "        np.fill_diagonal(self.weights, 0)\n",
    "        self.weights /= len(patterns)\n",
    "\n",
    "    def recall(self, state, steps=5):\n",
    "        state = np.array(state, dtype=float)  # continuous states initialized with the pattern\n",
    "        for _ in range(steps):\n",
    "            firing_probability = 0.5 * (state + 1) # P{σ_i(t) = +1 | S_i(t)}\n",
    "            continuous_state = np.dot(self.weights, firing_probability) - self.theta  \n",
    "            state = np.tanh(continuous_state*self.beta)  # Stochastic state update\n",
    "        return state\n",
    "\n",
    "# Example usage:\n",
    "size = 10\n",
    "patterns = [np.random.choice([-1, 1], size, p=[0.5, 0.5]) for _ in range(3)]  # Low-activity patterns\n",
    "stochastic_net = StochasticHopfieldNetwork(size, a=0.5, b=0.5, theta=0)\n",
    "stochastic_net.train(patterns)\n",
    "print(patterns)\n",
    "recalled = stochastic_net.recall(patterns[0])\n",
    "print(recalled)\n"
   ]
  },
  {
   "cell_type": "markdown",
   "metadata": {},
   "source": [
    "### Question\n",
    "Are we supposed to show with which values we get the same patterns as we do for Hopfield model or would it be enough to just state it?\n",
    "\n",
    "a=b=0.5, c=1"
   ]
  },
  {
   "cell_type": "markdown",
   "metadata": {},
   "source": [
    "**2.2.** Write methods for generating random patterns ξμ ∈ {0, 1}N with activity (i.e. average number of\n",
    "(+1)’s) a, for computing the Hamming distance between new patterns ξμ and new state variables σ, and\n",
    "for simulating the new model above."
   ]
  },
  {
   "cell_type": "code",
   "execution_count": null,
   "metadata": {},
   "outputs": [],
   "source": [
    "class StochasticHopfieldNetwork:\n",
    "    def __init__(self, size, a, b, beta=4, theta=0):\n",
    "        self.size = size\n",
    "        self.weights = np.zeros((size, size))\n",
    "        self.theta = theta  # Threshold for neuron firing\n",
    "        self.a = a\n",
    "        self.b = b\n",
    "        self.beta = beta\n",
    "\n",
    "    def generate_random_patterns(self, M, N):\n",
    "        return np.random.choice([0, 1], size=(M, N), p=[1-a/N, a/N])\n",
    "        \n",
    "    def train(self, patterns):\n",
    "        self.weights = np.zeros((self.size, self.size))\n",
    "        for pattern in patterns:\n",
    "            self.weights += np.outer(pattern-self.a, pattern-self.b)\n",
    "        np.fill_diagonal(self.weights, 0)\n",
    "        self.weights /= len(patterns)\n",
    "\n",
    "    def recall(self, state, steps=5):\n",
    "        state = np.array(state, dtype=float)  # continuous states initialized with the pattern\n",
    "        for _ in range(steps):\n",
    "            firing_probability = 0.5 * (state + 1) # P{σ_i(t) = +1 | S_i(t)}\n",
    "            continuous_state = np.dot(self.weights, firing_probability) - self.theta  \n",
    "            state = np.tanh(continuous_state*self.beta)  # Stochastic state update\n",
    "        return state\n",
    "\n",
    "    def hamming_distance(self, new_random_patterns, firing_probabilities):\n",
    "        \"\"\"Calculates the Hamming distance between two states.\"\"\"\n",
    "        return np.sum(new_random_patterns != firing_probabilities)"
   ]
  },
  {
   "cell_type": "markdown",
   "metadata": {},
   "source": [
    "What does the hint mean?"
   ]
  },
  {
   "cell_type": "markdown",
   "metadata": {},
   "source": [
    "**2.3.** Using the parameters a, b, θ that you found in question 2.1, compute the capacity of the network for N = 300.\n",
    "Is it the same as what you found in the previous section? If not, what do you think is the origin of the discrepancy?"
   ]
  },
  {
   "cell_type": "code",
   "execution_count": 45,
   "metadata": {},
   "outputs": [
    {
     "name": "stdout",
     "output_type": "stream",
     "text": [
      "Estimated capacity of the network: 100\n"
     ]
    }
   ],
   "source": [
    "class StochasticHopfieldNetwork:\n",
    "    def __init__(self, size, a, b, beta=4, theta=0):\n",
    "        self.size = size\n",
    "        self.weights = np.zeros((size, size))\n",
    "        self.theta = theta  # Threshold for neuron firing\n",
    "        self.a = a\n",
    "        self.b = b\n",
    "        self.beta = beta\n",
    "\n",
    "    def generate_random_patterns(self, M):\n",
    "        return np.random.choice([0, 1], size=(M, self.size), p=[1-self.a, self.a])\n",
    "        \n",
    "    def train(self, patterns):\n",
    "        self.weights = np.zeros((self.size, self.size))\n",
    "        for pattern in patterns:\n",
    "            self.weights += np.outer(pattern-self.a, pattern-self.b)\n",
    "        np.fill_diagonal(self.weights, 0)\n",
    "        self.weights /= len(patterns)\n",
    "\n",
    "    def recall(self, state, steps=5):\n",
    "        state = np.array(state, dtype=float)\n",
    "        for _ in range(steps):\n",
    "            firing_probability = 0.5 * (state + 1)\n",
    "            continuous_state = np.dot(self.weights, firing_probability) - self.theta  \n",
    "            state = np.tanh(self.beta * continuous_state)\n",
    "        return state\n",
    "\n",
    "    def compute_capacity(self, max_patterns):\n",
    "        for M in range(1, max_patterns + 1):\n",
    "            patterns = self.generate_random_patterns(M)\n",
    "            self.train(patterns)\n",
    "            initial_state = patterns[0].copy()  # Testing recall for the first pattern\n",
    "            recalled_state = self.recall(initial_state)\n",
    "            if np.sum(recalled_state != patterns[0]) / self.size > 0.1:  # Using 10% error rate\n",
    "                return M - 1  # Return the last successfully recalled number of patterns\n",
    "        return M\n",
    "\n",
    "# Parameters\n",
    "N = 300\n",
    "a = 0.2 # Low activity level of 10%\n",
    "b = 0.1  # No offset for binary patterns\n",
    "beta = 4\n",
    "theta = 0\n",
    "\n",
    "# Create the network and compute its capacity\n",
    "network = StochasticHopfieldNetwork(N, a, b, beta, theta)\n",
    "capacity = network.compute_capacity(100)  # Test with up to 100 patterns\n",
    "print(\"Estimated capacity of the network:\", capacity)\n"
   ]
  },
  {
   "cell_type": "markdown",
   "metadata": {},
   "source": [
    "Not sure if how to compute capacity of the network"
   ]
  },
  {
   "cell_type": "markdown",
   "metadata": {},
   "source": [
    "**2.4.** For a = b = 0.5, what value of the threshold θ corresponds to the best capacity? Plot the capacity as a function of θ."
   ]
  },
  {
   "cell_type": "code",
   "execution_count": 49,
   "metadata": {},
   "outputs": [
    {
     "name": "stdout",
     "output_type": "stream",
     "text": [
      "Estimated capacity of the network: [100. 100. 100. 100. 100. 100. 100. 100. 100. 100. 100. 100. 100. 100.\n",
      " 100. 100. 100. 100. 100. 100.]\n"
     ]
    }
   ],
   "source": [
    "# Parameters\n",
    "N = 300\n",
    "a = 0.5 # Low activity level of 10%\n",
    "b = 0.5  # No offset for binary patterns\n",
    "beta = 4\n",
    "theta = np.linspace(0, 1, 20)\n",
    "capacity = np.zeros(len(theta))\n",
    "\n",
    "# Create the network and compute its capacity\n",
    "for i,t in enumerate(theta):\n",
    "    network = StochasticHopfieldNetwork(N, a, b, beta, t)\n",
    "    capacity[i] = network.compute_capacity(100)  # Test with up to 100 patterns\n",
    "    #print(\"Theta:\", t, \"Estimated capacity of the network:\", capacity)\n",
    "network = StochasticHopfieldNetwork(N, a, b, beta, theta)\n",
    "#capacity = network.compute_capacity(100)  # Test with up to 100 patterns\n",
    "print(\"Estimated capacity of the network:\", capacity)"
   ]
  },
  {
   "cell_type": "code",
   "execution_count": 48,
   "metadata": {},
   "outputs": [
    {
     "data": {
      "text/plain": [
       "[<matplotlib.lines.Line2D at 0x10d4e9c10>]"
      ]
     },
     "execution_count": 48,
     "metadata": {},
     "output_type": "execute_result"
    },
    {
     "data": {
      "image/png": "[encoded data removed]",
      "text/plain": [
       "<Figure size 640x480 with 1 Axes>"
      ]
     },
     "metadata": {},
     "output_type": "display_data"
    }
   ],
   "source": [
    "plt.figure()\n",
    "plt.plot(theta, capacity)"
   ]
  },
  {
   "cell_type": "code",
   "execution_count": null,
   "metadata": {},
   "outputs": [],
   "source": []
  }
 ],
 "metadata": {
  "kernelspec": {
   "display_name": "comp_neuro",
   "language": "python",
   "name": "python3"
  },
  "language_info": {
   "codemirror_mode": {
    "name": "ipython",
    "version": 3
   },
   "file_extension": ".py",
   "mimetype": "text/x-python",
   "name": "python",
   "nbconvert_exporter": "python",
   "pygments_lexer": "ipython3",
   "version": "3.11.5"
  }
 },
 "nbformat": 4,
 "nbformat_minor": 2
}
